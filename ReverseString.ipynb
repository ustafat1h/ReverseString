{
 "cells": [
  {
   "cell_type": "markdown",
   "id": "660e55f7",
   "metadata": {},
   "source": [
    "Verilen listedeki metinleri tersten yazdıran program"
   ]
  },
  {
   "cell_type": "code",
   "execution_count": 1,
   "id": "3f60472d",
   "metadata": {},
   "outputs": [
    {
     "name": "stdout",
     "output_type": "stream",
     "text": [
      "\n",
      "Original lists:\n",
      "['MSFT', 'FB', 'GOOG', 'DELL']\n",
      "\n",
      "Reverse strings of the said given list:\n",
      "['TFSM', 'BF', 'GOOG', 'LLED']\n"
     ]
    }
   ],
   "source": [
    "def reverse_strings_list(string_list):\n",
    "    result = list(map(lambda x: \"\".join(reversed(x)), string_list))\n",
    "    return result\n",
    " \n",
    "stocks = [\"MSFT\", \"FB\", \"GOOG\", \"DELL\"]\n",
    "print(\"\\nOriginal lists:\")\n",
    "print(stocks)\n",
    " \n",
    "print(\"\\nReverse strings of the said given list:\")\n",
    "print(reverse_strings_list(stocks))\n"
   ]
  },
  {
   "cell_type": "code",
   "execution_count": null,
   "id": "3c006dd7",
   "metadata": {},
   "outputs": [],
   "source": []
  }
 ],
 "metadata": {
  "kernelspec": {
   "display_name": "Python 3",
   "language": "python",
   "name": "python3"
  },
  "language_info": {
   "codemirror_mode": {
    "name": "ipython",
    "version": 3
   },
   "file_extension": ".py",
   "mimetype": "text/x-python",
   "name": "python",
   "nbconvert_exporter": "python",
   "pygments_lexer": "ipython3",
   "version": "3.8.8"
  }
 },
 "nbformat": 4,
 "nbformat_minor": 5
}
